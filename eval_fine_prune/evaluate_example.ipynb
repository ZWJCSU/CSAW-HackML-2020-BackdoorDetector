{
  "nbformat": 4,
  "nbformat_minor": 0,
  "metadata": {
    "colab": {
      "name": "evaluate_example.ipynb",
      "provenance": [],
      "collapsed_sections": []
    },
    "kernelspec": {
      "name": "python3",
      "display_name": "Python 3"
    },
    "language_info": {
      "name": "python"
    },
    "accelerator": "GPU"
  },
  "cells": [
    {
      "cell_type": "code",
      "source": [
        "import keras"
      ],
      "metadata": {
        "id": "GpkPbKJ4TobJ"
      },
      "execution_count": 1,
      "outputs": []
    },
    {
      "cell_type": "code",
      "execution_count": 2,
      "metadata": {
        "colab": {
          "base_uri": "https://localhost:8080/"
        },
        "id": "xWFJE12KPYVw",
        "outputId": "8efff3fb-6a1e-4778-8fab-78d5bcaece3e"
      },
      "outputs": [
        {
          "output_type": "stream",
          "name": "stdout",
          "text": [
            "Collecting tensorflow_model_optimization\n",
            "  Downloading tensorflow_model_optimization-0.7.0-py2.py3-none-any.whl (213 kB)\n",
            "\u001b[?25l\r\u001b[K     |█▌                              | 10 kB 24.3 MB/s eta 0:00:01\r\u001b[K     |███                             | 20 kB 9.7 MB/s eta 0:00:01\r\u001b[K     |████▋                           | 30 kB 8.0 MB/s eta 0:00:01\r\u001b[K     |██████▏                         | 40 kB 7.3 MB/s eta 0:00:01\r\u001b[K     |███████▊                        | 51 kB 6.9 MB/s eta 0:00:01\r\u001b[K     |█████████▎                      | 61 kB 6.8 MB/s eta 0:00:01\r\u001b[K     |██████████▊                     | 71 kB 6.4 MB/s eta 0:00:01\r\u001b[K     |████████████▎                   | 81 kB 7.1 MB/s eta 0:00:01\r\u001b[K     |█████████████▉                  | 92 kB 6.9 MB/s eta 0:00:01\r\u001b[K     |███████████████▍                | 102 kB 7.0 MB/s eta 0:00:01\r\u001b[K     |█████████████████               | 112 kB 7.0 MB/s eta 0:00:01\r\u001b[K     |██████████████████▌             | 122 kB 7.0 MB/s eta 0:00:01\r\u001b[K     |████████████████████            | 133 kB 7.0 MB/s eta 0:00:01\r\u001b[K     |█████████████████████▌          | 143 kB 7.0 MB/s eta 0:00:01\r\u001b[K     |███████████████████████         | 153 kB 7.0 MB/s eta 0:00:01\r\u001b[K     |████████████████████████▋       | 163 kB 7.0 MB/s eta 0:00:01\r\u001b[K     |██████████████████████████▏     | 174 kB 7.0 MB/s eta 0:00:01\r\u001b[K     |███████████████████████████▊    | 184 kB 7.0 MB/s eta 0:00:01\r\u001b[K     |█████████████████████████████▏  | 194 kB 7.0 MB/s eta 0:00:01\r\u001b[K     |██████████████████████████████▊ | 204 kB 7.0 MB/s eta 0:00:01\r\u001b[K     |████████████████████████████████| 213 kB 7.0 MB/s \n",
            "\u001b[?25hRequirement already satisfied: six~=1.10 in /usr/local/lib/python3.7/dist-packages (from tensorflow_model_optimization) (1.15.0)\n",
            "Requirement already satisfied: numpy~=1.14 in /usr/local/lib/python3.7/dist-packages (from tensorflow_model_optimization) (1.19.5)\n",
            "Requirement already satisfied: dm-tree~=0.1.1 in /usr/local/lib/python3.7/dist-packages (from tensorflow_model_optimization) (0.1.6)\n",
            "Installing collected packages: tensorflow-model-optimization\n",
            "Successfully installed tensorflow-model-optimization-0.7.0\n",
            "Mounted at /content/gdrive\n"
          ]
        }
      ],
      "source": [
        "!pip install tensorflow_model_optimization\n",
        "from google.colab import drive\n",
        "drive.mount('/content/gdrive')"
      ]
    },
    {
      "cell_type": "code",
      "source": [
        "cd /content/gdrive/MyDrive/NYU/MLsecurity"
      ],
      "metadata": {
        "colab": {
          "base_uri": "https://localhost:8080/"
        },
        "id": "dSYgeKAnPtcx",
        "outputId": "4d085292-630b-4694-cf70-8e6f0cc76bfe"
      },
      "execution_count": 3,
      "outputs": [
        {
          "output_type": "stream",
          "name": "stdout",
          "text": [
            "/content/gdrive/MyDrive/NYU/MLsecurity\n"
          ]
        }
      ]
    },
    {
      "cell_type": "code",
      "source": [
        "# !unzip CSAW-HackML-2020-BackdoorDetector.zip"
      ],
      "metadata": {
        "colab": {
          "base_uri": "https://localhost:8080/"
        },
        "id": "IaQOV1dvQUGf",
        "outputId": "d41907d4-dd55-4bc0-c872-7e79c0a4b995"
      },
      "execution_count": null,
      "outputs": [
        {
          "output_type": "stream",
          "name": "stdout",
          "text": [
            "Archive:  CSAW-HackML-2020-BackdoorDetector.zip\n",
            "  inflating: __MACOSX/._CSAW-HackML-2020-BackdoorDetector  \n",
            "replace CSAW-HackML-2020-BackdoorDetector/.DS_Store? [y]es, [n]o, [A]ll, [N]one, [r]ename: "
          ]
        }
      ]
    },
    {
      "cell_type": "code",
      "source": [
        "cd CSAW-HackML-2020-BackdoorDetector"
      ],
      "metadata": {
        "colab": {
          "base_uri": "https://localhost:8080/"
        },
        "id": "VHE93lNRQbVS",
        "outputId": "2bc49381-27ed-4286-8cee-51129e6bf067"
      },
      "execution_count": 4,
      "outputs": [
        {
          "output_type": "stream",
          "name": "stdout",
          "text": [
            "/content/gdrive/MyDrive/NYU/MLsecurity/CSAW-HackML-2020-BackdoorDetector\n"
          ]
        }
      ]
    },
    {
      "cell_type": "code",
      "source": [
        "cd eval_fine_prune"
      ],
      "metadata": {
        "colab": {
          "base_uri": "https://localhost:8080/"
        },
        "id": "2NTIRNwpQw98",
        "outputId": "f660f97b-5ff2-4e6e-ae20-7108613aec8b"
      },
      "execution_count": 5,
      "outputs": [
        {
          "output_type": "stream",
          "name": "stdout",
          "text": [
            "/content/gdrive/MyDrive/NYU/MLsecurity/CSAW-HackML-2020-BackdoorDetector/eval_fine_prune\n"
          ]
        }
      ]
    },
    {
      "cell_type": "code",
      "source": [
        "import os\n",
        "from PIL import Image\n",
        "import matplotlib.pyplot as plt"
      ],
      "metadata": {
        "id": "coWRVFENQwkH"
      },
      "execution_count": 7,
      "outputs": []
    },
    {
      "cell_type": "code",
      "source": [
        "img = Image.open(\"../data/test_img/sun_0_label=0.png\")\n",
        "\n",
        "plt.figure(\"Image\") # 图像窗口名称\n",
        "plt.imshow(img)\n",
        "plt.axis('on') # 关掉坐标轴为 off\n",
        "plt.title('image') # 图像题目\n",
        "plt.show()"
      ],
      "metadata": {
        "colab": {
          "base_uri": "https://localhost:8080/",
          "height": 281
        },
        "id": "8-8VaIdvQnPX",
        "outputId": "0766e694-ec81-4cd1-ea0c-c0fe1c217403"
      },
      "execution_count": 8,
      "outputs": [
        {
          "output_type": "display_data",
          "data": {
            "image/png": "[encoded data removed]",
            "text/plain": [
              "<Figure size 432x288 with 1 Axes>"
            ]
          },
          "metadata": {
            "needs_background": "light"
          }
        }
      ]
    },
    {
      "cell_type": "code",
      "source": [
        "!python eval_fine_prune_sunglasses.py ../data/test_img/sun_0_label=0.png"
      ],
      "metadata": {
        "colab": {
          "base_uri": "https://localhost:8080/"
        },
        "id": "PRiGYQHEQ0kE",
        "outputId": "daec188b-5fc2-4955-bc3f-cfc33643d71a"
      },
      "execution_count": 10,
      "outputs": [
        {
          "output_type": "stream",
          "name": "stdout",
          "text": [
            "2021-12-23 03:22:38.546688: W tensorflow/core/common_runtime/gpu/gpu_bfc_allocator.cc:39] Overriding allow_growth setting because the TF_FORCE_GPU_ALLOW_GROWTH environment variable is set. Original config value was 0.\n",
            "1283\n"
          ]
        }
      ]
    },
    {
      "cell_type": "code",
      "source": [
        "import cv2\n",
        "import tempfile\n",
        "import os\n",
        "import tensorflow as tf\n",
        "from tensorflow import keras\n",
        "import h5py\n",
        "import numpy as np\n",
        "import matplotlib.pyplot as plt\n",
        "from keras import backend as K"
      ],
      "metadata": {
        "id": "QxjDtDiCuk3S"
      },
      "execution_count": 12,
      "outputs": []
    },
    {
      "cell_type": "code",
      "source": [
        "def data_loader(filepath):\n",
        "    data = h5py.File(filepath, 'r')\n",
        "    x_data = np.array(data['data'])\n",
        "    y_data = np.array(data['label'])\n",
        "    x_data = x_data.transpose((0,2,3,1))\n",
        "    return x_data, y_data\n",
        "\n",
        "def img_preprocess(x_data):\n",
        "    return x_data/255.0"
      ],
      "metadata": {
        "id": "6ALIyAH8uezf"
      },
      "execution_count": 13,
      "outputs": []
    },
    {
      "cell_type": "code",
      "source": [
        "test_data_filename = str('/content/gdrive/MyDrive/NYU/MLsecurity/CSAW-HackML-2020-BackdoorDetector/data/clean_test_data.h5')\n",
        "test_images, test_labels = data_loader(test_data_filename)\n",
        "test_images=data_preprocess(test_images)"
      ],
      "metadata": {
        "id": "osqGtPz8uNrF"
      },
      "execution_count": 14,
      "outputs": []
    },
    {
      "cell_type": "code",
      "source": [
        "img = Image.open(\"../data/test_img/cl_3_label=1268.png\")\n",
        "\n",
        "plt.figure(\"Image\") # 图像窗口名称\n",
        "plt.imshow(img)\n",
        "plt.axis('on') # 关掉坐标轴为 off\n",
        "plt.title('image') # 图像题目\n",
        "plt.show()"
      ],
      "metadata": {
        "colab": {
          "base_uri": "https://localhost:8080/",
          "height": 281
        },
        "id": "TKtjoeHbQ7Se",
        "outputId": "610a2c11-2769-48cf-d2f8-6fd442c7b47f"
      },
      "execution_count": 46,
      "outputs": [
        {
          "output_type": "display_data",
          "data": {
            "image/png": "[encoded data removed]",
            "text/plain": [
              "<Figure size 432x288 with 1 Axes>"
            ]
          },
          "metadata": {
            "needs_background": "light"
          }
        }
      ]
    },
    {
      "cell_type": "code",
      "source": [
        "!python eval_fine_prune_sunglasses.py ../data/test_img/cl_3_label=1268.png"
      ],
      "metadata": {
        "id": "eGx29dkGQ4Ml",
        "colab": {
          "base_uri": "https://localhost:8080/"
        },
        "outputId": "f198e45a-70be-4bed-ffa0-2331f8743ed7"
      },
      "execution_count": 42,
      "outputs": [
        {
          "output_type": "stream",
          "name": "stdout",
          "text": [
            "2021-12-23 04:56:32.313375: W tensorflow/core/common_runtime/gpu/gpu_bfc_allocator.cc:39] Overriding allow_growth setting because the TF_FORCE_GPU_ALLOW_GROWTH environment variable is set. Original config value was 0.\n",
            "[1268]\n"
          ]
        }
      ]
    },
    {
      "cell_type": "code",
      "source": [
        "!python eval_fine_prune_anonymous_1.py ../data/test_img/cl_3_label=1268.png"
      ],
      "metadata": {
        "colab": {
          "base_uri": "https://localhost:8080/"
        },
        "id": "TpmtMcTXptF4",
        "outputId": "fc488d29-9d7d-4238-f7ef-772ad14484c7"
      },
      "execution_count": 45,
      "outputs": [
        {
          "output_type": "stream",
          "name": "stdout",
          "text": [
            "2021-12-23 05:02:47.774594: W tensorflow/core/common_runtime/gpu/gpu_bfc_allocator.cc:39] Overriding allow_growth setting because the TF_FORCE_GPU_ALLOW_GROWTH environment variable is set. Original config value was 0.\n",
            "[1268]\n"
          ]
        }
      ]
    },
    {
      "cell_type": "code",
      "source": [
        "!python eval_fine_prune_anonymous_2.py ../data/test_img/cl_3_label=1268.png"
      ],
      "metadata": {
        "colab": {
          "base_uri": "https://localhost:8080/"
        },
        "id": "EVGt7i_bQbQY",
        "outputId": "5120ec40-3187-405d-9929-1dc4f70987f4"
      },
      "execution_count": 43,
      "outputs": [
        {
          "output_type": "stream",
          "name": "stdout",
          "text": [
            "2021-12-23 04:57:36.717886: W tensorflow/core/common_runtime/gpu/gpu_bfc_allocator.cc:39] Overriding allow_growth setting because the TF_FORCE_GPU_ALLOW_GROWTH environment variable is set. Original config value was 0.\n",
            "[1268]\n"
          ]
        }
      ]
    },
    {
      "cell_type": "code",
      "source": [
        "!python eval_fine_prune_multi.py ../data/test_img/cl_3_label=1268.png"
      ],
      "metadata": {
        "colab": {
          "base_uri": "https://localhost:8080/"
        },
        "id": "TpkOtt3epsOY",
        "outputId": "95013f8c-3b56-4d4c-b023-4f77895c0978"
      },
      "execution_count": 44,
      "outputs": [
        {
          "output_type": "stream",
          "name": "stdout",
          "text": [
            "2021-12-23 05:02:33.399818: W tensorflow/core/common_runtime/gpu/gpu_bfc_allocator.cc:39] Overriding allow_growth setting because the TF_FORCE_GPU_ALLOW_GROWTH environment variable is set. Original config value was 0.\n",
            "[1268]\n"
          ]
        }
      ]
    },
    {
      "cell_type": "code",
      "source": [
        ""
      ],
      "metadata": {
        "id": "deRSL_s-q0pb"
      },
      "execution_count": null,
      "outputs": []
    }
  ]
}