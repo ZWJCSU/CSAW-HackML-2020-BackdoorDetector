{
  "nbformat": 4,
  "nbformat_minor": 0,
  "metadata": {
    "colab": {
      "name": "evaluate_example.ipynb",
      "provenance": [],
      "collapsed_sections": []
    },
    "kernelspec": {
      "name": "python3",
      "display_name": "Python 3"
    },
    "language_info": {
      "name": "python"
    },
    "accelerator": "GPU"
  },
  "cells": [
    {
      "cell_type": "code",
      "source": [
        "import keras"
      ],
      "metadata": {
        "id": "GpkPbKJ4TobJ"
      },
      "execution_count": 15,
      "outputs": []
    },
    {
      "cell_type": "code",
      "source": [
        "print(keras.__version__)"
      ],
      "metadata": {
        "colab": {
          "base_uri": "https://localhost:8080/"
        },
        "id": "udgq7m3cThYZ",
        "outputId": "d1fb1a54-a8f6-4f8d-ffed-652d12f22b4b"
      },
      "execution_count": 16,
      "outputs": [
        {
          "output_type": "stream",
          "name": "stdout",
          "text": [
            "2.7.0\n"
          ]
        }
      ]
    },
    {
      "cell_type": "code",
      "execution_count": 2,
      "metadata": {
        "colab": {
          "base_uri": "https://localhost:8080/"
        },
        "id": "xWFJE12KPYVw",
        "outputId": "db6a3bae-1a1e-4987-a832-e09672c5f7b4"
      },
      "outputs": [
        {
          "output_type": "stream",
          "name": "stdout",
          "text": [
            "Requirement already satisfied: tensorflow_model_optimization in /usr/local/lib/python3.7/dist-packages (0.7.0)\n",
            "Requirement already satisfied: dm-tree~=0.1.1 in /usr/local/lib/python3.7/dist-packages (from tensorflow_model_optimization) (0.1.6)\n",
            "Requirement already satisfied: six~=1.10 in /usr/local/lib/python3.7/dist-packages (from tensorflow_model_optimization) (1.15.0)\n",
            "Requirement already satisfied: numpy~=1.14 in /usr/local/lib/python3.7/dist-packages (from tensorflow_model_optimization) (1.19.5)\n",
            "Mounted at /content/gdrive\n"
          ]
        }
      ],
      "source": [
        "!pip install tensorflow_model_optimization\n",
        "from google.colab import drive\n",
        "drive.mount('/content/gdrive')"
      ]
    },
    {
      "cell_type": "code",
      "source": [
        "cd /content/gdrive/MyDrive/NYU/MLsecurity"
      ],
      "metadata": {
        "colab": {
          "base_uri": "https://localhost:8080/"
        },
        "id": "dSYgeKAnPtcx",
        "outputId": "64aae979-e943-4d79-f41f-25f584a09818"
      },
      "execution_count": 3,
      "outputs": [
        {
          "output_type": "stream",
          "name": "stdout",
          "text": [
            "/content/gdrive/MyDrive/NYU/MLsecurity\n"
          ]
        }
      ]
    },
    {
      "cell_type": "code",
      "source": [
        "# !unzip CSAW-HackML-2020-BackdoorDetector.zip"
      ],
      "metadata": {
        "colab": {
          "base_uri": "https://localhost:8080/"
        },
        "id": "IaQOV1dvQUGf",
        "outputId": "d41907d4-dd55-4bc0-c872-7e79c0a4b995"
      },
      "execution_count": 4,
      "outputs": [
        {
          "output_type": "stream",
          "name": "stdout",
          "text": [
            "Archive:  CSAW-HackML-2020-BackdoorDetector.zip\n",
            "  inflating: __MACOSX/._CSAW-HackML-2020-BackdoorDetector  \n",
            "replace CSAW-HackML-2020-BackdoorDetector/.DS_Store? [y]es, [n]o, [A]ll, [N]one, [r]ename: "
          ]
        }
      ]
    },
    {
      "cell_type": "code",
      "source": [
        "!ls"
      ],
      "metadata": {
        "colab": {
          "base_uri": "https://localhost:8080/"
        },
        "id": "j3fj72ItWqU8",
        "outputId": "3de9dd36-e494-4195-f29a-f256097fb5c4"
      },
      "execution_count": 5,
      "outputs": [
        {
          "output_type": "stream",
          "name": "stdout",
          "text": [
            "CSAW-HackML-2020\t\t       lab1\n",
            "CSAW-HackML-2020-BackdoorDetector      __MACOSX\n",
            "CSAW-HackML-2020-BackdoorDetector.zip\n"
          ]
        }
      ]
    },
    {
      "cell_type": "code",
      "source": [
        "cd CSAW-HackML-2020-BackdoorDetector"
      ],
      "metadata": {
        "colab": {
          "base_uri": "https://localhost:8080/"
        },
        "id": "VHE93lNRQbVS",
        "outputId": "3df5b61f-f90e-45ff-bdd0-fae8d36fafce"
      },
      "execution_count": 6,
      "outputs": [
        {
          "output_type": "stream",
          "name": "stdout",
          "text": [
            "/content/gdrive/My Drive/NYU/MLsecurity/CSAW-HackML-2020-BackdoorDetector\n"
          ]
        }
      ]
    },
    {
      "cell_type": "code",
      "source": [
        "cd eval_fine_prune"
      ],
      "metadata": {
        "colab": {
          "base_uri": "https://localhost:8080/"
        },
        "id": "2NTIRNwpQw98",
        "outputId": "b2d27039-0db1-4b02-f289-33a6fb921ca1"
      },
      "execution_count": 7,
      "outputs": [
        {
          "output_type": "stream",
          "name": "stdout",
          "text": [
            "/content/gdrive/My Drive/NYU/MLsecurity/CSAW-HackML-2020-BackdoorDetector/eval_fine_prune\n"
          ]
        }
      ]
    },
    {
      "cell_type": "code",
      "source": [
        "!python eval_fine_prune_sunglasses.py ../data/demo9.jpeg"
      ],
      "metadata": {
        "colab": {
          "base_uri": "https://localhost:8080/"
        },
        "id": "PRiGYQHEQ0kE",
        "outputId": "02ef7ea0-20f4-4672-b46f-59279f07f229"
      },
      "execution_count": 39,
      "outputs": [
        {
          "output_type": "stream",
          "name": "stdout",
          "text": [
            "2021-12-21 13:44:12.711573: W tensorflow/core/common_runtime/gpu/gpu_bfc_allocator.cc:39] Overriding allow_growth setting because the TF_FORCE_GPU_ALLOW_GROWTH environment variable is set. Original config value was 0.\n",
            "1283\n"
          ]
        }
      ]
    },
    {
      "cell_type": "code",
      "source": [
        ""
      ],
      "metadata": {
        "id": "eGx29dkGQ4Ml"
      },
      "execution_count": null,
      "outputs": []
    }
  ]
}