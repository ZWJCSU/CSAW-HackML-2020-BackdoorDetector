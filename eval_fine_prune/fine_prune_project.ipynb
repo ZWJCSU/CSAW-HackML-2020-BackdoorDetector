{
  "nbformat": 4,
  "nbformat_minor": 0,
  "metadata": {
    "colab": {
      "name": "fine_prune_project.ipynb",
      "provenance": [],
      "collapsed_sections": []
    },
    "kernelspec": {
      "name": "python3",
      "display_name": "Python 3"
    },
    "language_info": {
      "name": "python"
    },
    "accelerator": "GPU"
  },
  "cells": [
    {
      "cell_type": "markdown",
      "source": [
        "# Project - ML for cyber security Fine Prune Part\n",
        "> **Goal:** design a backdoor detector for BadNets trained  on the YouTube Face dataset.  \n",
        "**Method:** Fine-pruning  \n",
        "**Team members:** Jianqiao Mo, Wenjie Zhu, Tianxu Lu  \n",
        "**Submission date:** Dec 21, 2021  "
      ],
      "metadata": {
        "id": "7GJRBmD6Wvn4"
      }
    },
    {
      "cell_type": "markdown",
      "source": [
        "To mitigate the attacks from BadNets, we apply two methods to our backdoor detector to get a better detector:  \n",
        "- **Fine-pruning:** Pruning + Fine-tune [[source]](https://arxiv.org/abs/1805.12185)"
      ],
      "metadata": {
        "id": "A4CZkm17W_FH"
      }
    },
    {
      "cell_type": "code",
      "source": [
        "!pip install tensorflow_model_optimization\n",
        "from google.colab import drive\n",
        "drive.mount('/content/gdrive')"
      ],
      "metadata": {
        "id": "fjDmSwVoTPTX",
        "colab": {
          "base_uri": "https://localhost:8080/"
        },
        "outputId": "d817ff75-84fa-4b54-d2e9-b57bd09d6582"
      },
      "execution_count": 3,
      "outputs": [
        {
          "output_type": "stream",
          "name": "stdout",
          "text": [
            "Requirement already satisfied: tensorflow_model_optimization in /usr/local/lib/python3.7/dist-packages (0.7.0)\n",
            "Requirement already satisfied: dm-tree~=0.1.1 in /usr/local/lib/python3.7/dist-packages (from tensorflow_model_optimization) (0.1.6)\n",
            "Requirement already satisfied: six~=1.10 in /usr/local/lib/python3.7/dist-packages (from tensorflow_model_optimization) (1.15.0)\n",
            "Requirement already satisfied: numpy~=1.14 in /usr/local/lib/python3.7/dist-packages (from tensorflow_model_optimization) (1.19.5)\n",
            "Drive already mounted at /content/gdrive; to attempt to forcibly remount, call drive.mount(\"/content/gdrive\", force_remount=True).\n"
          ]
        }
      ]
    },
    {
      "cell_type": "code",
      "source": [
        "import tempfile\n",
        "import os\n",
        "import tensorflow as tf\n",
        "from tensorflow import keras\n",
        "import h5py\n",
        "import numpy as np\n",
        "import matplotlib.pyplot as plt\n",
        "from keras import backend as K\n",
        "\n",
        "%load_ext tensorboard"
      ],
      "metadata": {
        "id": "pl-McHD5TSsH",
        "colab": {
          "base_uri": "https://localhost:8080/"
        },
        "outputId": "3a14a9ee-7072-4534-93f8-f39ce779d02c"
      },
      "execution_count": 4,
      "outputs": [
        {
          "output_type": "stream",
          "name": "stdout",
          "text": [
            "The tensorboard extension is already loaded. To reload it, use:\n",
            "  %reload_ext tensorboard\n"
          ]
        }
      ]
    },
    {
      "cell_type": "code",
      "source": [
        "def data_loader(filepath):\n",
        "    data = h5py.File(filepath, 'r')\n",
        "    x_data = np.array(data['data'])\n",
        "    y_data = np.array(data['label'])\n",
        "    x_data = x_data.transpose((0,2,3,1))\n",
        "    return x_data, y_data\n",
        "\n",
        "def data_preprocess(x_data):\n",
        "    return x_data/255\n",
        "\n",
        "clean_data_filename = str('/content/gdrive/MyDrive/NYU/MLsecurity/CSAW-HackML-2020-BackdoorDetector/data/clean_validation_data.h5')\n",
        "test_data_filename = str('/content/gdrive/MyDrive/NYU/MLsecurity/CSAW-HackML-2020-BackdoorDetector/data/clean_test_data.h5')\n",
        "train_images, train_labels=data_loader(clean_data_filename)\n",
        "train_images=data_preprocess(train_images)\n",
        "print(\"Shape of train_images: {0}\".format(train_images.shape))\n",
        "print(\"Shape of train_labels: {0}\".format(train_labels.shape))\n",
        "\n",
        "tune_images, tune_labels=data_loader(clean_data_filename)\n",
        "tune_images=data_preprocess(tune_images)\n",
        "\n",
        "import tensorflow_model_optimization as tfmot\n",
        "prune_low_magnitude=tfmot.sparsity.keras.prune_low_magnitude\n",
        "batch_size = 128\n",
        "epochs_test = np.array([2, 4, 6, 8, 10])\n",
        "validation_split = 0.1\n",
        "\n",
        "# Define model for pruning.\n",
        "pruning_params = {\n",
        "    'pruning_schedule': tfmot.sparsity.keras.ConstantSparsity(0.8, 0),\n",
        "    'block_size': (1, 1),\n",
        "    'block_pooling_type': 'AVG'\n",
        "}\n",
        "\n",
        "#dense layers train with pruning\n",
        "def apply_pruning_to_dense(layer):\n",
        "  if layer.name in ['conv_3']:\n",
        "    return tfmot.sparsity.keras.prune_low_magnitude(layer, **pruning_params)\n",
        "  return layer"
      ],
      "metadata": {
        "colab": {
          "base_uri": "https://localhost:8080/"
        },
        "id": "JwHrVe5pUlsB",
        "outputId": "e9676c6d-e82b-4214-bd3e-a1ceb7d065bd"
      },
      "execution_count": 5,
      "outputs": [
        {
          "output_type": "stream",
          "name": "stdout",
          "text": [
            "Shape of train_images: (11547, 55, 47, 3)\n",
            "Shape of train_labels: (11547,)\n"
          ]
        }
      ]
    },
    {
      "cell_type": "markdown",
      "source": [
        "### **BadNet: sunglasses poisoned**"
      ],
      "metadata": {
        "id": "61U1PtFMhcIW"
      }
    },
    {
      "cell_type": "markdown",
      "source": [
        "#### Get the BadNet model"
      ],
      "metadata": {
        "id": "uCXoyVSThdHN"
      }
    },
    {
      "cell_type": "code",
      "source": [
        "K.clear_session()"
      ],
      "metadata": {
        "id": "96FXqXTgg9op"
      },
      "execution_count": 58,
      "outputs": []
    },
    {
      "cell_type": "code",
      "source": [
        "model_filename = str('/content/gdrive/MyDrive/NYU/MLsecurity/CSAW-HackML-2020-BackdoorDetector/models/sunglasses_bd_net.h5')\n",
        "# model_filename = str('/content/gdrive/MyDrive/NYU/MLsecurity/CSAW-HackML-2020-BackdoorDetector/sunglasses_repaired_net.h5')\n",
        "bd_model = keras.models.load_model(model_filename)\n",
        "bd_model.summary()"
      ],
      "metadata": {
        "colab": {
          "base_uri": "https://localhost:8080/"
        },
        "id": "I1Sp6f8mhmd1",
        "outputId": "fe03a7e6-4a02-4dc2-ecf8-6591952b4b45"
      },
      "execution_count": 59,
      "outputs": [
        {
          "output_type": "stream",
          "name": "stdout",
          "text": [
            "Model: \"model_1\"\n",
            "__________________________________________________________________________________________________\n",
            " Layer (type)                   Output Shape         Param #     Connected to                     \n",
            "==================================================================================================\n",
            " input (InputLayer)             [(None, 55, 47, 3)]  0           []                               \n",
            "                                                                                                  \n",
            " conv_1 (Conv2D)                (None, 52, 44, 20)   980         ['input[0][0]']                  \n",
            "                                                                                                  \n",
            " pool_1 (MaxPooling2D)          (None, 26, 22, 20)   0           ['conv_1[0][0]']                 \n",
            "                                                                                                  \n",
            " conv_2 (Conv2D)                (None, 24, 20, 40)   7240        ['pool_1[0][0]']                 \n",
            "                                                                                                  \n",
            " pool_2 (MaxPooling2D)          (None, 12, 10, 40)   0           ['conv_2[0][0]']                 \n",
            "                                                                                                  \n",
            " conv_3 (Conv2D)                (None, 10, 8, 60)    21660       ['pool_2[0][0]']                 \n",
            "                                                                                                  \n",
            " pool_3 (MaxPooling2D)          (None, 5, 4, 60)     0           ['conv_3[0][0]']                 \n",
            "                                                                                                  \n",
            " conv_4 (Conv2D)                (None, 4, 3, 80)     19280       ['pool_3[0][0]']                 \n",
            "                                                                                                  \n",
            " flatten_1 (Flatten)            (None, 1200)         0           ['pool_3[0][0]']                 \n",
            "                                                                                                  \n",
            " flatten_2 (Flatten)            (None, 960)          0           ['conv_4[0][0]']                 \n",
            "                                                                                                  \n",
            " fc_1 (Dense)                   (None, 160)          192160      ['flatten_1[0][0]']              \n",
            "                                                                                                  \n",
            " fc_2 (Dense)                   (None, 160)          153760      ['flatten_2[0][0]']              \n",
            "                                                                                                  \n",
            " add_1 (Add)                    (None, 160)          0           ['fc_1[0][0]',                   \n",
            "                                                                  'fc_2[0][0]']                   \n",
            "                                                                                                  \n",
            " activation_1 (Activation)      (None, 160)          0           ['add_1[0][0]']                  \n",
            "                                                                                                  \n",
            " output (Dense)                 (None, 1283)         206563      ['activation_1[0][0]']           \n",
            "                                                                                                  \n",
            "==================================================================================================\n",
            "Total params: 601,643\n",
            "Trainable params: 601,643\n",
            "Non-trainable params: 0\n",
            "__________________________________________________________________________________________________\n"
          ]
        }
      ]
    },
    {
      "cell_type": "markdown",
      "source": [
        "#### Fetch poisoned data"
      ],
      "metadata": {
        "id": "Hh6suGkzh6JE"
      }
    },
    {
      "cell_type": "code",
      "source": [
        "sunglasses_data_filename = str('/content/gdrive/MyDrive/NYU/MLsecurity/CSAW-HackML-2020-BackdoorDetector/data/sunglasses_poisoned_data.h5')"
      ],
      "metadata": {
        "id": "MsRKfwKnhmEm"
      },
      "execution_count": 60,
      "outputs": []
    },
    {
      "cell_type": "code",
      "source": [
        "model_for_pruning=tf.keras.models.clone_model(\n",
        "    bd_model,\n",
        "    clone_function=apply_pruning_to_dense,\n",
        ")\n",
        "model_for_pruning.compile(optimizer='adam',\n",
        "                          loss=tf.keras.losses.SparseCategoricalCrossentropy(from_logits=True),\n",
        "                          metrics=['accuracy'])\n",
        "model_for_pruning.summary()"
      ],
      "metadata": {
        "colab": {
          "base_uri": "https://localhost:8080/"
        },
        "id": "_8Jmybj7h9DE",
        "outputId": "3ed8663b-3539-4368-e9a6-dfcb818c3ea3"
      },
      "execution_count": 61,
      "outputs": [
        {
          "output_type": "stream",
          "name": "stdout",
          "text": [
            "Model: \"model_1\"\n",
            "__________________________________________________________________________________________________\n",
            " Layer (type)                   Output Shape         Param #     Connected to                     \n",
            "==================================================================================================\n",
            " input (InputLayer)             [(None, 55, 47, 3)]  0           []                               \n",
            "                                                                                                  \n",
            " conv_1 (Conv2D)                (None, 52, 44, 20)   980         ['input[0][0]']                  \n",
            "                                                                                                  \n",
            " pool_1 (MaxPooling2D)          (None, 26, 22, 20)   0           ['conv_1[1][0]']                 \n",
            "                                                                                                  \n",
            " conv_2 (Conv2D)                (None, 24, 20, 40)   7240        ['pool_1[1][0]']                 \n",
            "                                                                                                  \n",
            " pool_2 (MaxPooling2D)          (None, 12, 10, 40)   0           ['conv_2[1][0]']                 \n",
            "                                                                                                  \n",
            " prune_low_magnitude_conv_3 (Pr  (None, 10, 8, 60)   43262       ['pool_2[1][0]']                 \n",
            " uneLowMagnitude)                                                                                 \n",
            "                                                                                                  \n",
            " pool_3 (MaxPooling2D)          (None, 5, 4, 60)     0           ['prune_low_magnitude_conv_3[0][0\n",
            "                                                                 ]']                              \n",
            "                                                                                                  \n",
            " conv_4 (Conv2D)                (None, 4, 3, 80)     19280       ['pool_3[1][0]']                 \n",
            "                                                                                                  \n",
            " flatten_1 (Flatten)            (None, 1200)         0           ['pool_3[1][0]']                 \n",
            "                                                                                                  \n",
            " flatten_2 (Flatten)            (None, 960)          0           ['conv_4[1][0]']                 \n",
            "                                                                                                  \n",
            " fc_1 (Dense)                   (None, 160)          192160      ['flatten_1[1][0]']              \n",
            "                                                                                                  \n",
            " fc_2 (Dense)                   (None, 160)          153760      ['flatten_2[1][0]']              \n",
            "                                                                                                  \n",
            " add_1 (Add)                    (None, 160)          0           ['fc_1[1][0]',                   \n",
            "                                                                  'fc_2[1][0]']                   \n",
            "                                                                                                  \n",
            " activation_1 (Activation)      (None, 160)          0           ['add_1[1][0]']                  \n",
            "                                                                                                  \n",
            " output (Dense)                 (None, 1283)         206563      ['activation_1[1][0]']           \n",
            "                                                                                                  \n",
            "==================================================================================================\n",
            "Total params: 623,245\n",
            "Trainable params: 601,643\n",
            "Non-trainable params: 21,602\n",
            "__________________________________________________________________________________________________\n"
          ]
        },
        {
          "output_type": "stream",
          "name": "stderr",
          "text": [
            "/usr/local/lib/python3.7/dist-packages/tensorflow_model_optimization/python/core/sparsity/keras/pruning_wrapper.py:218: UserWarning: `layer.add_variable` is deprecated and will be removed in a future version. Please use `layer.add_weight` method instead.\n",
            "  aggregation=tf.VariableAggregation.MEAN)\n",
            "/usr/local/lib/python3.7/dist-packages/tensorflow_model_optimization/python/core/sparsity/keras/pruning_wrapper.py:225: UserWarning: `layer.add_variable` is deprecated and will be removed in a future version. Please use `layer.add_weight` method instead.\n",
            "  aggregation=tf.VariableAggregation.MEAN)\n",
            "/usr/local/lib/python3.7/dist-packages/tensorflow_model_optimization/python/core/sparsity/keras/pruning_wrapper.py:238: UserWarning: `layer.add_variable` is deprecated and will be removed in a future version. Please use `layer.add_weight` method instead.\n",
            "  trainable=False)\n"
          ]
        }
      ]
    },
    {
      "cell_type": "markdown",
      "source": [
        "#### Implement Fine-tuning +  Cross validation"
      ],
      "metadata": {
        "id": "xdluIvDWiKWh"
      }
    },
    {
      "cell_type": "code",
      "source": [
        "#train and evaluate the model against baseline -- fine-tuning\n",
        "logdir = tempfile.mkdtemp()\n",
        "callbacks = [\n",
        "  tfmot.sparsity.keras.UpdatePruningStep(),\n",
        "  tfmot.sparsity.keras.PruningSummaries(log_dir=logdir),\n",
        "]\n",
        "\n",
        "clean_accuracy = np.zeros(epochs_test.shape[0])\n",
        "poison_accuracy = np.zeros(epochs_test.shape[0])\n",
        "for i, epochs in enumerate(epochs_test):\n",
        "  model_for_pruning.fit(tune_images, tune_labels,\n",
        "                    batch_size=batch_size, epochs=epochs, \n",
        "                    callbacks=callbacks, verbose=0)\n",
        "  #test clean data accuracy\n",
        "  test_images, test_labels = data_loader(test_data_filename)\n",
        "  test_images=data_preprocess(test_images)\n",
        "  _, model_for_pruning_accuracy = model_for_pruning.evaluate(\n",
        "    test_images, test_labels, verbose=0)\n",
        "  clean_accuracy[i] = model_for_pruning_accuracy\n",
        "  print('Epochs={0} (clean data) - pruned test accuracy: {1}'.format(epochs, model_for_pruning_accuracy))\n",
        "  #test poison data accuracy\n",
        "  test_images, test_labels = data_loader(sunglasses_data_filename)\n",
        "  test_images=data_preprocess(test_images)\n",
        "  _, model_for_pruning_accuracy = model_for_pruning.evaluate(\n",
        "    test_images, test_labels, verbose=0)\n",
        "  poison_accuracy[i] = model_for_pruning_accuracy\n",
        "  print('Epochs={0} (poisoned data) - attack success rate: {1}'.format(epochs, model_for_pruning_accuracy))"
      ],
      "metadata": {
        "colab": {
          "base_uri": "https://localhost:8080/"
        },
        "id": "iJtVebiliGDe",
        "outputId": "051410d7-78e8-41c3-8c8a-7a888aff285f"
      },
      "execution_count": 62,
      "outputs": [
        {
          "output_type": "stream",
          "name": "stderr",
          "text": [
            "/usr/local/lib/python3.7/dist-packages/keras/engine/functional.py:1410: CustomMaskWarning: Custom mask layers require a config and must override get_config. When loading, the custom mask layer must be passed to the custom_objects argument.\n",
            "  layer_config = serialize_layer_fn(layer)\n",
            "/usr/local/lib/python3.7/dist-packages/tensorflow/python/util/dispatch.py:1096: UserWarning: \"`sparse_categorical_crossentropy` received `from_logits=True`, but the `output` argument was produced by a sigmoid or softmax activation and thus does not represent logits. Was this intended?\"\n",
            "  return dispatch_target(*args, **kwargs)\n"
          ]
        },
        {
          "output_type": "stream",
          "name": "stdout",
          "text": [
            "Epochs=2 (clean data) - pruned test accuracy: 0.9414653182029724\n",
            "Epochs=2 (poisoned data) - attack success rate: 0.6939204931259155\n",
            "Epochs=4 (clean data) - pruned test accuracy: 0.9410756230354309\n",
            "Epochs=4 (poisoned data) - attack success rate: 0.5586126446723938\n",
            "Epochs=6 (clean data) - pruned test accuracy: 0.909197211265564\n",
            "Epochs=6 (poisoned data) - attack success rate: 0.08090413361787796\n",
            "Epochs=8 (clean data) - pruned test accuracy: 0.930007815361023\n",
            "Epochs=8 (poisoned data) - attack success rate: 0.061496492475271225\n",
            "Epochs=10 (clean data) - pruned test accuracy: 0.931878387928009\n",
            "Epochs=10 (poisoned data) - attack success rate: 0.06282151490449905\n"
          ]
        }
      ]
    },
    {
      "cell_type": "markdown",
      "source": [
        "#### Visualize the results"
      ],
      "metadata": {
        "id": "7Z6KyxR0iR9X"
      }
    },
    {
      "cell_type": "code",
      "source": [
        "plt.figure(figsize=(15, 5))\n",
        "plt.subplot(1, 2, 1)\n",
        "plt.plot(epochs_test, clean_accuracy)\n",
        "plt.title('Clean validation data')\n",
        "plt.grid()\n",
        "plt.xlabel('epochs')\n",
        "plt.ylabel('validation accuracy')\n",
        "plt.subplot(1, 2, 2)\n",
        "plt.plot(epochs_test, poison_accuracy, label='Poison')\n",
        "plt.title('Sunglasses poisoned data')\n",
        "plt.grid()\n",
        "plt.xlabel('epochs')\n",
        "plt.ylabel('attack success rate')"
      ],
      "metadata": {
        "colab": {
          "base_uri": "https://localhost:8080/",
          "height": 367
        },
        "id": "Pq7ig8c8iNRn",
        "outputId": "874972d5-7112-4346-b549-466b10ee1f7b"
      },
      "execution_count": 63,
      "outputs": [
        {
          "output_type": "execute_result",
          "data": {
            "text/plain": [
              "Text(0, 0.5, 'attack success rate')"
            ]
          },
          "metadata": {},
          "execution_count": 63
        },
        {
          "output_type": "display_data",
          "data": {
            "image/png": "[encoded data removed]",
            "text/plain": [
              "<Figure size 1080x360 with 2 Axes>"
            ]
          },
          "metadata": {
            "needs_background": "light"
          }
        }
      ]
    },
    {
      "cell_type": "code",
      "source": [
        "import cv2"
      ],
      "metadata": {
        "id": "52MWZNBhWyAS"
      },
      "execution_count": 64,
      "outputs": []
    },
    {
      "cell_type": "code",
      "source": [
        "test_img = cv2.imread('/content/gdrive/MyDrive/NYU/MLsecurity/CSAW-HackML-2020-BackdoorDetector/data/test_img/sun_2_label=0.png') \n",
        "print(np.argmax(model_for_pruning.predict(np.expand_dims(test_img,axis=0)), axis=1))"
      ],
      "metadata": {
        "colab": {
          "base_uri": "https://localhost:8080/"
        },
        "id": "4TDIIISnV1MX",
        "outputId": "8ef129fc-ef66-4774-8f8a-53190ee66dc6"
      },
      "execution_count": 70,
      "outputs": [
        {
          "output_type": "stream",
          "name": "stdout",
          "text": [
            "[749]\n"
          ]
        }
      ]
    },
    {
      "cell_type": "markdown",
      "source": [
        "#### Save sunglasses_prune model"
      ],
      "metadata": {
        "id": "3ZgeiZmLzkAY"
      }
    },
    {
      "cell_type": "code",
      "source": [
        "model_for_pruning.save('/content/gdrive/MyDrive/NYU/MLsecurity/CSAW-HackML-2020-BackdoorDetector/models_G/sunglasses_prune_net.h5')"
      ],
      "metadata": {
        "colab": {
          "base_uri": "https://localhost:8080/"
        },
        "id": "v_uCtImKijQv",
        "outputId": "1d000b55-0b65-4c7a-f131-30193eb40b1a"
      },
      "execution_count": 12,
      "outputs": [
        {
          "output_type": "stream",
          "name": "stderr",
          "text": [
            "/usr/local/lib/python3.7/dist-packages/keras/engine/functional.py:1410: CustomMaskWarning: Custom mask layers require a config and must override get_config. When loading, the custom mask layer must be passed to the custom_objects argument.\n",
            "  layer_config = serialize_layer_fn(layer)\n"
          ]
        }
      ]
    },
    {
      "cell_type": "markdown",
      "source": [
        "### **BadNet: anonymous1 poisoned**"
      ],
      "metadata": {
        "id": "F1UXvZZTrQp2"
      }
    },
    {
      "cell_type": "markdown",
      "source": [
        "#### Get the BadNet model"
      ],
      "metadata": {
        "id": "zY675_BKrTvv"
      }
    },
    {
      "cell_type": "code",
      "source": [
        "K.clear_session()"
      ],
      "metadata": {
        "id": "bmzGRFolrP4g"
      },
      "execution_count": 13,
      "outputs": []
    },
    {
      "cell_type": "code",
      "source": [
        "model_filename = str('/content/gdrive/MyDrive/NYU/MLsecurity/CSAW-HackML-2020-BackdoorDetector/models/anonymous_1_bd_net.h5')\n",
        "bd_model = keras.models.load_model(model_filename)\n",
        "bd_model.summary()"
      ],
      "metadata": {
        "colab": {
          "base_uri": "https://localhost:8080/"
        },
        "id": "p2RdusnHrP0x",
        "outputId": "25078e66-d02d-4061-a16c-3545e3d17f17"
      },
      "execution_count": 14,
      "outputs": [
        {
          "output_type": "stream",
          "name": "stdout",
          "text": [
            "Model: \"model_1\"\n",
            "__________________________________________________________________________________________________\n",
            " Layer (type)                   Output Shape         Param #     Connected to                     \n",
            "==================================================================================================\n",
            " input (InputLayer)             [(None, 55, 47, 3)]  0           []                               \n",
            "                                                                                                  \n",
            " conv_1 (Conv2D)                (None, 52, 44, 20)   980         ['input[0][0]']                  \n",
            "                                                                                                  \n",
            " pool_1 (MaxPooling2D)          (None, 26, 22, 20)   0           ['conv_1[0][0]']                 \n",
            "                                                                                                  \n",
            " conv_2 (Conv2D)                (None, 24, 20, 40)   7240        ['pool_1[0][0]']                 \n",
            "                                                                                                  \n",
            " pool_2 (MaxPooling2D)          (None, 12, 10, 40)   0           ['conv_2[0][0]']                 \n",
            "                                                                                                  \n",
            " conv_3 (Conv2D)                (None, 10, 8, 60)    21660       ['pool_2[0][0]']                 \n",
            "                                                                                                  \n",
            " pool_3 (MaxPooling2D)          (None, 5, 4, 60)     0           ['conv_3[0][0]']                 \n",
            "                                                                                                  \n",
            " conv_4 (Conv2D)                (None, 4, 3, 80)     19280       ['pool_3[0][0]']                 \n",
            "                                                                                                  \n",
            " flatten_1 (Flatten)            (None, 1200)         0           ['pool_3[0][0]']                 \n",
            "                                                                                                  \n",
            " flatten_2 (Flatten)            (None, 960)          0           ['conv_4[0][0]']                 \n",
            "                                                                                                  \n",
            " fc_1 (Dense)                   (None, 160)          192160      ['flatten_1[0][0]']              \n",
            "                                                                                                  \n",
            " fc_2 (Dense)                   (None, 160)          153760      ['flatten_2[0][0]']              \n",
            "                                                                                                  \n",
            " add_1 (Add)                    (None, 160)          0           ['fc_1[0][0]',                   \n",
            "                                                                  'fc_2[0][0]']                   \n",
            "                                                                                                  \n",
            " activation_1 (Activation)      (None, 160)          0           ['add_1[0][0]']                  \n",
            "                                                                                                  \n",
            " output (Dense)                 (None, 1283)         206563      ['activation_1[0][0]']           \n",
            "                                                                                                  \n",
            "==================================================================================================\n",
            "Total params: 601,643\n",
            "Trainable params: 601,643\n",
            "Non-trainable params: 0\n",
            "__________________________________________________________________________________________________\n"
          ]
        }
      ]
    },
    {
      "cell_type": "markdown",
      "source": [
        "#### Fetch poisoned data"
      ],
      "metadata": {
        "id": "xW94B6o6yiWE"
      }
    },
    {
      "cell_type": "code",
      "source": [
        "anonymous_data_filename = str('/content/gdrive/MyDrive/NYU/MLsecurity/CSAW-HackML-2020-BackdoorDetector/data/anonymous_1_poisoned_data.h5')"
      ],
      "metadata": {
        "id": "YqLhdzMUykWV"
      },
      "execution_count": 15,
      "outputs": []
    },
    {
      "cell_type": "markdown",
      "source": [
        "#### Implement pruning"
      ],
      "metadata": {
        "id": "8biXiutQy3Td"
      }
    },
    {
      "cell_type": "code",
      "source": [
        "model_for_pruning=tf.keras.models.clone_model(\n",
        "    bd_model,\n",
        "    clone_function=apply_pruning_to_dense,\n",
        ")\n",
        "model_for_pruning.compile(optimizer='adam',\n",
        "                          loss=tf.keras.losses.SparseCategoricalCrossentropy(from_logits=True),\n",
        "                          metrics=['accuracy'])\n",
        "model_for_pruning.summary()"
      ],
      "metadata": {
        "colab": {
          "base_uri": "https://localhost:8080/"
        },
        "id": "bIXhaNx0ywX6",
        "outputId": "8ee32ae1-3d27-4547-d21b-49db3a3868b5"
      },
      "execution_count": 16,
      "outputs": [
        {
          "output_type": "stream",
          "name": "stdout",
          "text": [
            "Model: \"model_1\"\n",
            "__________________________________________________________________________________________________\n",
            " Layer (type)                   Output Shape         Param #     Connected to                     \n",
            "==================================================================================================\n",
            " input (InputLayer)             [(None, 55, 47, 3)]  0           []                               \n",
            "                                                                                                  \n",
            " conv_1 (Conv2D)                (None, 52, 44, 20)   980         ['input[0][0]']                  \n",
            "                                                                                                  \n",
            " pool_1 (MaxPooling2D)          (None, 26, 22, 20)   0           ['conv_1[1][0]']                 \n",
            "                                                                                                  \n",
            " conv_2 (Conv2D)                (None, 24, 20, 40)   7240        ['pool_1[1][0]']                 \n",
            "                                                                                                  \n",
            " pool_2 (MaxPooling2D)          (None, 12, 10, 40)   0           ['conv_2[1][0]']                 \n",
            "                                                                                                  \n",
            " prune_low_magnitude_conv_3 (Pr  (None, 10, 8, 60)   43262       ['pool_2[1][0]']                 \n",
            " uneLowMagnitude)                                                                                 \n",
            "                                                                                                  \n",
            " pool_3 (MaxPooling2D)          (None, 5, 4, 60)     0           ['prune_low_magnitude_conv_3[0][0\n",
            "                                                                 ]']                              \n",
            "                                                                                                  \n",
            " conv_4 (Conv2D)                (None, 4, 3, 80)     19280       ['pool_3[1][0]']                 \n",
            "                                                                                                  \n",
            " flatten_1 (Flatten)            (None, 1200)         0           ['pool_3[1][0]']                 \n",
            "                                                                                                  \n",
            " flatten_2 (Flatten)            (None, 960)          0           ['conv_4[1][0]']                 \n",
            "                                                                                                  \n",
            " fc_1 (Dense)                   (None, 160)          192160      ['flatten_1[1][0]']              \n",
            "                                                                                                  \n",
            " fc_2 (Dense)                   (None, 160)          153760      ['flatten_2[1][0]']              \n",
            "                                                                                                  \n",
            " add_1 (Add)                    (None, 160)          0           ['fc_1[1][0]',                   \n",
            "                                                                  'fc_2[1][0]']                   \n",
            "                                                                                                  \n",
            " activation_1 (Activation)      (None, 160)          0           ['add_1[1][0]']                  \n",
            "                                                                                                  \n",
            " output (Dense)                 (None, 1283)         206563      ['activation_1[1][0]']           \n",
            "                                                                                                  \n",
            "==================================================================================================\n",
            "Total params: 623,245\n",
            "Trainable params: 601,643\n",
            "Non-trainable params: 21,602\n",
            "__________________________________________________________________________________________________\n"
          ]
        },
        {
          "output_type": "stream",
          "name": "stderr",
          "text": [
            "/usr/local/lib/python3.7/dist-packages/tensorflow_model_optimization/python/core/sparsity/keras/pruning_wrapper.py:218: UserWarning: `layer.add_variable` is deprecated and will be removed in a future version. Please use `layer.add_weight` method instead.\n",
            "  aggregation=tf.VariableAggregation.MEAN)\n",
            "/usr/local/lib/python3.7/dist-packages/tensorflow_model_optimization/python/core/sparsity/keras/pruning_wrapper.py:225: UserWarning: `layer.add_variable` is deprecated and will be removed in a future version. Please use `layer.add_weight` method instead.\n",
            "  aggregation=tf.VariableAggregation.MEAN)\n",
            "/usr/local/lib/python3.7/dist-packages/tensorflow_model_optimization/python/core/sparsity/keras/pruning_wrapper.py:238: UserWarning: `layer.add_variable` is deprecated and will be removed in a future version. Please use `layer.add_weight` method instead.\n",
            "  trainable=False)\n"
          ]
        }
      ]
    },
    {
      "cell_type": "markdown",
      "source": [
        "#### Implement Fine-tuning +  Cross validation"
      ],
      "metadata": {
        "id": "4ttD_-n8y7s5"
      }
    },
    {
      "cell_type": "code",
      "source": [
        "#train and evaluate the model against baseline -- fine-tuning\n",
        "logdir = tempfile.mkdtemp()\n",
        "callbacks = [\n",
        "  tfmot.sparsity.keras.UpdatePruningStep(),\n",
        "  tfmot.sparsity.keras.PruningSummaries(log_dir=logdir),\n",
        "]\n",
        "\n",
        "clean_accuracy = np.zeros(epochs_test.shape[0])\n",
        "poison_accuracy = np.zeros(epochs_test.shape[0])\n",
        "for i, epochs in enumerate(epochs_test):\n",
        "  model_for_pruning.fit(tune_images, tune_labels,\n",
        "                    batch_size=batch_size, epochs=epochs, \n",
        "                    callbacks=callbacks, verbose=0)\n",
        "  #test clean data accuracy\n",
        "  test_images, test_labels = data_loader(test_data_filename)\n",
        "  test_images=data_preprocess(test_images)\n",
        "  _, model_for_pruning_accuracy = model_for_pruning.evaluate(\n",
        "    test_images, test_labels, verbose=0)\n",
        "  clean_accuracy[i] = model_for_pruning_accuracy\n",
        "  print('Epochs={0} (clean data) - pruned test accuracy: {1}'.format(epochs, model_for_pruning_accuracy))\n",
        "  #test poison data accuracy\n",
        "  test_images, test_labels = data_loader(anonymous_data_filename)\n",
        "  test_images=data_preprocess(test_images)\n",
        "  _, model_for_pruning_accuracy = model_for_pruning.evaluate(\n",
        "    test_images, test_labels, verbose=0)\n",
        "  poison_accuracy[i] = model_for_pruning_accuracy\n",
        "  print('Epochs={0} (poisoned data) - attack success rate: {1}'.format(epochs, model_for_pruning_accuracy))"
      ],
      "metadata": {
        "colab": {
          "base_uri": "https://localhost:8080/"
        },
        "id": "DNLRbrnUrChc",
        "outputId": "ff3452a0-3ae5-466a-861a-1921c48972e3"
      },
      "execution_count": 17,
      "outputs": [
        {
          "output_type": "stream",
          "name": "stderr",
          "text": [
            "/usr/local/lib/python3.7/dist-packages/keras/engine/functional.py:1410: CustomMaskWarning: Custom mask layers require a config and must override get_config. When loading, the custom mask layer must be passed to the custom_objects argument.\n",
            "  layer_config = serialize_layer_fn(layer)\n",
            "/usr/local/lib/python3.7/dist-packages/tensorflow/python/util/dispatch.py:1096: UserWarning: \"`sparse_categorical_crossentropy` received `from_logits=True`, but the `output` argument was produced by a sigmoid or softmax activation and thus does not represent logits. Was this intended?\"\n",
            "  return dispatch_target(*args, **kwargs)\n"
          ]
        },
        {
          "output_type": "stream",
          "name": "stdout",
          "text": [
            "Epochs=2 (clean data) - pruned test accuracy: 0.9533125758171082\n",
            "Epochs=2 (poisoned data) - attack success rate: 0.8797739744186401\n",
            "Epochs=4 (clean data) - pruned test accuracy: 0.9666407108306885\n",
            "Epochs=4 (poisoned data) - attack success rate: 0.857463002204895\n",
            "Epochs=6 (clean data) - pruned test accuracy: 0.9680436253547668\n",
            "Epochs=6 (poisoned data) - attack success rate: 0.8597038388252258\n",
            "Epochs=8 (clean data) - pruned test accuracy: 0.9655494689941406\n",
            "Epochs=8 (poisoned data) - attack success rate: 0.8450896143913269\n",
            "Epochs=10 (clean data) - pruned test accuracy: 0.9288386702537537\n",
            "Epochs=10 (poisoned data) - attack success rate: 0.460541695356369\n"
          ]
        }
      ]
    },
    {
      "cell_type": "markdown",
      "source": [
        "#### Visualize the results"
      ],
      "metadata": {
        "id": "L-FJeLwIzAJz"
      }
    },
    {
      "cell_type": "code",
      "source": [
        "plt.figure(figsize=(15, 5))\n",
        "plt.subplot(1, 2, 1)\n",
        "plt.plot(epochs_test, clean_accuracy)\n",
        "plt.title('Clean validation data')\n",
        "plt.grid()\n",
        "plt.xlabel('epochs')\n",
        "plt.ylabel('validation accuracy')\n",
        "plt.subplot(1, 2, 2)\n",
        "plt.plot(epochs_test, poison_accuracy, label='Poison')\n",
        "plt.title('anonymous1 poisoned data')\n",
        "plt.grid()\n",
        "plt.xlabel('epochs')\n",
        "plt.ylabel('attack success rate')"
      ],
      "metadata": {
        "colab": {
          "base_uri": "https://localhost:8080/",
          "height": 367
        },
        "id": "P8KuzR2YyVsy",
        "outputId": "50c0c72b-fc33-45c7-bb71-fb17ddbf591b"
      },
      "execution_count": 18,
      "outputs": [
        {
          "output_type": "execute_result",
          "data": {
            "text/plain": [
              "Text(0, 0.5, 'attack success rate')"
            ]
          },
          "metadata": {},
          "execution_count": 18
        },
        {
          "output_type": "display_data",
          "data": {
            "image/png": "[encoded data removed]",
            "text/plain": [
              "<Figure size 1080x360 with 2 Axes>"
            ]
          },
          "metadata": {
            "needs_background": "light"
          }
        }
      ]
    },
    {
      "cell_type": "markdown",
      "source": [
        "####Save anonymous1_repaired model"
      ],
      "metadata": {
        "id": "l57TIFl8zp5F"
      }
    },
    {
      "cell_type": "code",
      "source": [
        "_, keras_model_file = tempfile.mkstemp('.h5')\n",
        "\n",
        "# Checkpoint: saving the optimizer is necessary (include_optimizer=True is the default).\n",
        "model_for_pruning.save(keras_model_file, include_optimizer=True)"
      ],
      "metadata": {
        "colab": {
          "base_uri": "https://localhost:8080/"
        },
        "id": "gSxreWen_X9o",
        "outputId": "03a8f581-735d-42f4-f5f2-f0107263ea9c"
      },
      "execution_count": 19,
      "outputs": [
        {
          "output_type": "stream",
          "name": "stderr",
          "text": [
            "/usr/local/lib/python3.7/dist-packages/keras/engine/functional.py:1410: CustomMaskWarning: Custom mask layers require a config and must override get_config. When loading, the custom mask layer must be passed to the custom_objects argument.\n",
            "  layer_config = serialize_layer_fn(layer)\n"
          ]
        }
      ]
    },
    {
      "cell_type": "code",
      "source": [
        "model_for_pruning.save('/content/gdrive/MyDrive/NYU/MLsecurity/CSAW-HackML-2020-BackdoorDetector/models_G/anonymous1_prune_net.h5')"
      ],
      "metadata": {
        "colab": {
          "base_uri": "https://localhost:8080/"
        },
        "id": "SIp8ecxAzf32",
        "outputId": "0aea7686-21f1-42ed-96a8-a369cf6c7a1f"
      },
      "execution_count": 20,
      "outputs": [
        {
          "output_type": "stream",
          "name": "stderr",
          "text": [
            "/usr/local/lib/python3.7/dist-packages/keras/engine/functional.py:1410: CustomMaskWarning: Custom mask layers require a config and must override get_config. When loading, the custom mask layer must be passed to the custom_objects argument.\n",
            "  layer_config = serialize_layer_fn(layer)\n"
          ]
        }
      ]
    },
    {
      "cell_type": "markdown",
      "source": [
        "### **BadNet: anonymous2 poisoned**"
      ],
      "metadata": {
        "id": "ixdmheV_0WvD"
      }
    },
    {
      "cell_type": "markdown",
      "source": [
        "#### Get the BadNet model"
      ],
      "metadata": {
        "id": "ufvPn6Lt0ZVK"
      }
    },
    {
      "cell_type": "code",
      "source": [
        "K.clear_session()"
      ],
      "metadata": {
        "id": "B1UJ35nD0HM6"
      },
      "execution_count": 21,
      "outputs": []
    },
    {
      "cell_type": "code",
      "source": [
        "model_filename = str('/content/gdrive/MyDrive/NYU/MLsecurity/CSAW-HackML-2020-BackdoorDetector/models/anonymous_2_bd_net.h5')\n",
        "bd_model = keras.models.load_model(model_filename)\n",
        "bd_model.summary()"
      ],
      "metadata": {
        "colab": {
          "base_uri": "https://localhost:8080/"
        },
        "id": "4LRy1yT10b3U",
        "outputId": "1f720c50-8342-4160-b204-edad5a4fcbdf"
      },
      "execution_count": 22,
      "outputs": [
        {
          "output_type": "stream",
          "name": "stdout",
          "text": [
            "Model: \"model_1\"\n",
            "__________________________________________________________________________________________________\n",
            " Layer (type)                   Output Shape         Param #     Connected to                     \n",
            "==================================================================================================\n",
            " input (InputLayer)             [(None, 55, 47, 3)]  0           []                               \n",
            "                                                                                                  \n",
            " conv_1 (Conv2D)                (None, 52, 44, 20)   980         ['input[0][0]']                  \n",
            "                                                                                                  \n",
            " pool_1 (MaxPooling2D)          (None, 26, 22, 20)   0           ['conv_1[0][0]']                 \n",
            "                                                                                                  \n",
            " conv_2 (Conv2D)                (None, 24, 20, 40)   7240        ['pool_1[0][0]']                 \n",
            "                                                                                                  \n",
            " pool_2 (MaxPooling2D)          (None, 12, 10, 40)   0           ['conv_2[0][0]']                 \n",
            "                                                                                                  \n",
            " conv_3 (Conv2D)                (None, 10, 8, 60)    21660       ['pool_2[0][0]']                 \n",
            "                                                                                                  \n",
            " pool_3 (MaxPooling2D)          (None, 5, 4, 60)     0           ['conv_3[0][0]']                 \n",
            "                                                                                                  \n",
            " conv_4 (Conv2D)                (None, 4, 3, 80)     19280       ['pool_3[0][0]']                 \n",
            "                                                                                                  \n",
            " flatten_1 (Flatten)            (None, 1200)         0           ['pool_3[0][0]']                 \n",
            "                                                                                                  \n",
            " flatten_2 (Flatten)            (None, 960)          0           ['conv_4[0][0]']                 \n",
            "                                                                                                  \n",
            " fc_1 (Dense)                   (None, 160)          192160      ['flatten_1[0][0]']              \n",
            "                                                                                                  \n",
            " fc_2 (Dense)                   (None, 160)          153760      ['flatten_2[0][0]']              \n",
            "                                                                                                  \n",
            " add_1 (Add)                    (None, 160)          0           ['fc_1[0][0]',                   \n",
            "                                                                  'fc_2[0][0]']                   \n",
            "                                                                                                  \n",
            " activation_1 (Activation)      (None, 160)          0           ['add_1[0][0]']                  \n",
            "                                                                                                  \n",
            " output (Dense)                 (None, 1283)         206563      ['activation_1[0][0]']           \n",
            "                                                                                                  \n",
            "==================================================================================================\n",
            "Total params: 601,643\n",
            "Trainable params: 601,643\n",
            "Non-trainable params: 0\n",
            "__________________________________________________________________________________________________\n"
          ]
        }
      ]
    },
    {
      "cell_type": "markdown",
      "source": [
        "#### Fetch poisoned data"
      ],
      "metadata": {
        "id": "xa2K6kG20oKg"
      }
    },
    {
      "cell_type": "code",
      "source": [
        "#anonymous_data_filename = str('/content/gdrive/MyDrive/NYU/MLsecurity/CSAW-HackML-2020-BackdoorDetector/data/anonymous_1_poisoned_data.h5')"
      ],
      "metadata": {
        "id": "Tk5Prdbq0fhw"
      },
      "execution_count": 23,
      "outputs": []
    },
    {
      "cell_type": "code",
      "source": [
        "model_for_pruning=tf.keras.models.clone_model(\n",
        "    bd_model,\n",
        "    clone_function=apply_pruning_to_dense,\n",
        ")\n",
        "model_for_pruning.compile(optimizer='adam',\n",
        "                          loss=tf.keras.losses.SparseCategoricalCrossentropy(from_logits=True),\n",
        "                          metrics=['accuracy'])\n",
        "model_for_pruning.summary()"
      ],
      "metadata": {
        "colab": {
          "base_uri": "https://localhost:8080/"
        },
        "id": "_nsB_9gF0xIq",
        "outputId": "c16ecb73-b7ed-4137-da53-40870da7c9bc"
      },
      "execution_count": 24,
      "outputs": [
        {
          "output_type": "stream",
          "name": "stdout",
          "text": [
            "Model: \"model_1\"\n",
            "__________________________________________________________________________________________________\n",
            " Layer (type)                   Output Shape         Param #     Connected to                     \n",
            "==================================================================================================\n",
            " input (InputLayer)             [(None, 55, 47, 3)]  0           []                               \n",
            "                                                                                                  \n",
            " conv_1 (Conv2D)                (None, 52, 44, 20)   980         ['input[0][0]']                  \n",
            "                                                                                                  \n",
            " pool_1 (MaxPooling2D)          (None, 26, 22, 20)   0           ['conv_1[1][0]']                 \n",
            "                                                                                                  \n",
            " conv_2 (Conv2D)                (None, 24, 20, 40)   7240        ['pool_1[1][0]']                 \n",
            "                                                                                                  \n",
            " pool_2 (MaxPooling2D)          (None, 12, 10, 40)   0           ['conv_2[1][0]']                 \n",
            "                                                                                                  \n",
            " prune_low_magnitude_conv_3 (Pr  (None, 10, 8, 60)   43262       ['pool_2[1][0]']                 \n",
            " uneLowMagnitude)                                                                                 \n",
            "                                                                                                  \n",
            " pool_3 (MaxPooling2D)          (None, 5, 4, 60)     0           ['prune_low_magnitude_conv_3[0][0\n",
            "                                                                 ]']                              \n",
            "                                                                                                  \n",
            " conv_4 (Conv2D)                (None, 4, 3, 80)     19280       ['pool_3[1][0]']                 \n",
            "                                                                                                  \n",
            " flatten_1 (Flatten)            (None, 1200)         0           ['pool_3[1][0]']                 \n",
            "                                                                                                  \n",
            " flatten_2 (Flatten)            (None, 960)          0           ['conv_4[1][0]']                 \n",
            "                                                                                                  \n",
            " fc_1 (Dense)                   (None, 160)          192160      ['flatten_1[1][0]']              \n",
            "                                                                                                  \n",
            " fc_2 (Dense)                   (None, 160)          153760      ['flatten_2[1][0]']              \n",
            "                                                                                                  \n",
            " add_1 (Add)                    (None, 160)          0           ['fc_1[1][0]',                   \n",
            "                                                                  'fc_2[1][0]']                   \n",
            "                                                                                                  \n",
            " activation_1 (Activation)      (None, 160)          0           ['add_1[1][0]']                  \n",
            "                                                                                                  \n",
            " output (Dense)                 (None, 1283)         206563      ['activation_1[1][0]']           \n",
            "                                                                                                  \n",
            "==================================================================================================\n",
            "Total params: 623,245\n",
            "Trainable params: 601,643\n",
            "Non-trainable params: 21,602\n",
            "__________________________________________________________________________________________________\n"
          ]
        },
        {
          "output_type": "stream",
          "name": "stderr",
          "text": [
            "/usr/local/lib/python3.7/dist-packages/tensorflow_model_optimization/python/core/sparsity/keras/pruning_wrapper.py:218: UserWarning: `layer.add_variable` is deprecated and will be removed in a future version. Please use `layer.add_weight` method instead.\n",
            "  aggregation=tf.VariableAggregation.MEAN)\n",
            "/usr/local/lib/python3.7/dist-packages/tensorflow_model_optimization/python/core/sparsity/keras/pruning_wrapper.py:225: UserWarning: `layer.add_variable` is deprecated and will be removed in a future version. Please use `layer.add_weight` method instead.\n",
            "  aggregation=tf.VariableAggregation.MEAN)\n",
            "/usr/local/lib/python3.7/dist-packages/tensorflow_model_optimization/python/core/sparsity/keras/pruning_wrapper.py:238: UserWarning: `layer.add_variable` is deprecated and will be removed in a future version. Please use `layer.add_weight` method instead.\n",
            "  trainable=False)\n"
          ]
        }
      ]
    },
    {
      "cell_type": "code",
      "source": [
        "#train and evaluate the model against baseline -- fine-tuning\n",
        "logdir = tempfile.mkdtemp()\n",
        "callbacks = [\n",
        "  tfmot.sparsity.keras.UpdatePruningStep(),\n",
        "  tfmot.sparsity.keras.PruningSummaries(log_dir=logdir),\n",
        "]\n",
        "\n",
        "clean_accuracy = np.zeros(epochs_test.shape[0])\n",
        "poison_accuracy = np.zeros(epochs_test.shape[0])\n",
        "for i, epochs in enumerate(epochs_test):\n",
        "  model_for_pruning.fit(tune_images, tune_labels,\n",
        "                    batch_size=batch_size, epochs=epochs, \n",
        "                    callbacks=callbacks, verbose=0)\n",
        "  #test clean data accuracy\n",
        "  test_images, test_labels = data_loader(test_data_filename)\n",
        "  test_images=data_preprocess(test_images)\n",
        "  _, model_for_pruning_accuracy = model_for_pruning.evaluate(\n",
        "    test_images, test_labels, verbose=0)\n",
        "  clean_accuracy[i] = model_for_pruning_accuracy\n",
        "  print('Epochs={0} (clean data) - pruned test accuracy: {1}'.format(epochs, model_for_pruning_accuracy))"
      ],
      "metadata": {
        "colab": {
          "base_uri": "https://localhost:8080/"
        },
        "id": "zbuy9Beo67zz",
        "outputId": "789eae99-4ace-430d-d1e7-5f459025aa8c"
      },
      "execution_count": 25,
      "outputs": [
        {
          "output_type": "stream",
          "name": "stderr",
          "text": [
            "/usr/local/lib/python3.7/dist-packages/keras/engine/functional.py:1410: CustomMaskWarning: Custom mask layers require a config and must override get_config. When loading, the custom mask layer must be passed to the custom_objects argument.\n",
            "  layer_config = serialize_layer_fn(layer)\n",
            "/usr/local/lib/python3.7/dist-packages/tensorflow/python/util/dispatch.py:1096: UserWarning: \"`sparse_categorical_crossentropy` received `from_logits=True`, but the `output` argument was produced by a sigmoid or softmax activation and thus does not represent logits. Was this intended?\"\n",
            "  return dispatch_target(*args, **kwargs)\n"
          ]
        },
        {
          "output_type": "stream",
          "name": "stdout",
          "text": [
            "Epochs=2 (clean data) - pruned test accuracy: 0.9525331258773804\n",
            "Epochs=4 (clean data) - pruned test accuracy: 0.96461421251297\n",
            "Epochs=6 (clean data) - pruned test accuracy: 0.9668745398521423\n",
            "Epochs=8 (clean data) - pruned test accuracy: 0.9671083688735962\n",
            "Epochs=10 (clean data) - pruned test accuracy: 0.9599376320838928\n"
          ]
        }
      ]
    },
    {
      "cell_type": "code",
      "source": [
        "plt.figure(figsize=(15, 5))\n",
        "plt.subplot(1, 1, 1)\n",
        "plt.plot(epochs_test, clean_accuracy)\n",
        "plt.title('Clean validation data')\n",
        "plt.grid()\n",
        "plt.xlabel('epochs')\n",
        "plt.ylabel('validation accuracy')\n"
      ],
      "metadata": {
        "colab": {
          "base_uri": "https://localhost:8080/",
          "height": 367
        },
        "id": "U03aItSM-zHB",
        "outputId": "a65fafdd-9231-42c3-b942-b9ff577ad06d"
      },
      "execution_count": 26,
      "outputs": [
        {
          "output_type": "execute_result",
          "data": {
            "text/plain": [
              "Text(0, 0.5, 'validation accuracy')"
            ]
          },
          "metadata": {},
          "execution_count": 26
        },
        {
          "output_type": "display_data",
          "data": {
            "image/png": "[encoded data removed]",
            "text/plain": [
              "<Figure size 1080x360 with 1 Axes>"
            ]
          },
          "metadata": {
            "needs_background": "light"
          }
        }
      ]
    },
    {
      "cell_type": "markdown",
      "source": [
        "####Save anonymous2_repaired model"
      ],
      "metadata": {
        "id": "usVzuTL-7WmX"
      }
    },
    {
      "cell_type": "code",
      "source": [
        "model_for_pruning.save('/content/gdrive/MyDrive/NYU/MLsecurity/CSAW-HackML-2020-BackdoorDetector/models_G/anonymous2_prune_net.h5')"
      ],
      "metadata": {
        "colab": {
          "base_uri": "https://localhost:8080/"
        },
        "id": "I0Wj1bu47FH_",
        "outputId": "4697db54-2c5c-40f9-80ce-05fe20a2037a"
      },
      "execution_count": 27,
      "outputs": [
        {
          "output_type": "stream",
          "name": "stderr",
          "text": [
            "/usr/local/lib/python3.7/dist-packages/keras/engine/functional.py:1410: CustomMaskWarning: Custom mask layers require a config and must override get_config. When loading, the custom mask layer must be passed to the custom_objects argument.\n",
            "  layer_config = serialize_layer_fn(layer)\n"
          ]
        }
      ]
    },
    {
      "cell_type": "markdown",
      "source": [
        "### **BadNet: multi trigger & multi target poisoned**"
      ],
      "metadata": {
        "id": "62KNOZL08D_C"
      }
    },
    {
      "cell_type": "code",
      "source": [
        "K.clear_session()"
      ],
      "metadata": {
        "id": "QZ6FRq1f7rVs"
      },
      "execution_count": 28,
      "outputs": []
    },
    {
      "cell_type": "code",
      "source": [
        "model_filename = str('/content/gdrive/MyDrive/NYU/MLsecurity/CSAW-HackML-2020-BackdoorDetector/models/multi_trigger_multi_target_bd_net.h5')\n",
        "bd_model = keras.models.load_model(model_filename)\n",
        "bd_model.summary()"
      ],
      "metadata": {
        "colab": {
          "base_uri": "https://localhost:8080/"
        },
        "id": "8G9vPZGJ8Jni",
        "outputId": "ba84fa74-d595-4a9a-9b74-9bcf55bf20fb"
      },
      "execution_count": 29,
      "outputs": [
        {
          "output_type": "stream",
          "name": "stdout",
          "text": [
            "Model: \"model_1\"\n",
            "__________________________________________________________________________________________________\n",
            " Layer (type)                   Output Shape         Param #     Connected to                     \n",
            "==================================================================================================\n",
            " input (InputLayer)             [(None, 55, 47, 3)]  0           []                               \n",
            "                                                                                                  \n",
            " conv_1 (Conv2D)                (None, 52, 44, 20)   980         ['input[0][0]']                  \n",
            "                                                                                                  \n",
            " pool_1 (MaxPooling2D)          (None, 26, 22, 20)   0           ['conv_1[0][0]']                 \n",
            "                                                                                                  \n",
            " conv_2 (Conv2D)                (None, 24, 20, 40)   7240        ['pool_1[0][0]']                 \n",
            "                                                                                                  \n",
            " pool_2 (MaxPooling2D)          (None, 12, 10, 40)   0           ['conv_2[0][0]']                 \n",
            "                                                                                                  \n",
            " conv_3 (Conv2D)                (None, 10, 8, 60)    21660       ['pool_2[0][0]']                 \n",
            "                                                                                                  \n",
            " pool_3 (MaxPooling2D)          (None, 5, 4, 60)     0           ['conv_3[0][0]']                 \n",
            "                                                                                                  \n",
            " conv_4 (Conv2D)                (None, 4, 3, 80)     19280       ['pool_3[0][0]']                 \n",
            "                                                                                                  \n",
            " flatten_1 (Flatten)            (None, 1200)         0           ['pool_3[0][0]']                 \n",
            "                                                                                                  \n",
            " flatten_2 (Flatten)            (None, 960)          0           ['conv_4[0][0]']                 \n",
            "                                                                                                  \n",
            " fc_1 (Dense)                   (None, 160)          192160      ['flatten_1[0][0]']              \n",
            "                                                                                                  \n",
            " fc_2 (Dense)                   (None, 160)          153760      ['flatten_2[0][0]']              \n",
            "                                                                                                  \n",
            " add_1 (Add)                    (None, 160)          0           ['fc_1[0][0]',                   \n",
            "                                                                  'fc_2[0][0]']                   \n",
            "                                                                                                  \n",
            " activation_1 (Activation)      (None, 160)          0           ['add_1[0][0]']                  \n",
            "                                                                                                  \n",
            " output (Dense)                 (None, 1283)         206563      ['activation_1[0][0]']           \n",
            "                                                                                                  \n",
            "==================================================================================================\n",
            "Total params: 601,643\n",
            "Trainable params: 601,643\n",
            "Non-trainable params: 0\n",
            "__________________________________________________________________________________________________\n"
          ]
        }
      ]
    },
    {
      "cell_type": "code",
      "source": [
        "# multi_data_filename = str('/content/drive/MyDrive/cyberSecurity/Multi-trigger Multi-target/eyebrows_poisoned_data.h5')\n",
        "multi_data_filename = str('/content/gdrive/MyDrive/NYU/MLsecurity/CSAW-HackML-2020-BackdoorDetector/data/Multi-trigger Multi-target/lipstick_poisoned_data.h5')\n",
        "# multi_data_filename = str('/content/drive/MyDrive/cyberSecurity/Multi-trigger Multi-target/sunglasses_poisoned_data.h5')"
      ],
      "metadata": {
        "id": "pzfp84nuB0yo"
      },
      "execution_count": 30,
      "outputs": []
    },
    {
      "cell_type": "code",
      "source": [
        "model_for_pruning=tf.keras.models.clone_model(\n",
        "    bd_model,\n",
        "    clone_function=apply_pruning_to_dense,\n",
        ")\n",
        "model_for_pruning.compile(optimizer='adam',\n",
        "                          loss=tf.keras.losses.SparseCategoricalCrossentropy(from_logits=True),\n",
        "                          metrics=['accuracy'])\n",
        "model_for_pruning.summary()"
      ],
      "metadata": {
        "colab": {
          "base_uri": "https://localhost:8080/"
        },
        "id": "j3MTUJdZ8RaW",
        "outputId": "78c57755-1e90-4adc-972b-36f884295794"
      },
      "execution_count": 31,
      "outputs": [
        {
          "output_type": "stream",
          "name": "stdout",
          "text": [
            "Model: \"model_1\"\n",
            "__________________________________________________________________________________________________\n",
            " Layer (type)                   Output Shape         Param #     Connected to                     \n",
            "==================================================================================================\n",
            " input (InputLayer)             [(None, 55, 47, 3)]  0           []                               \n",
            "                                                                                                  \n",
            " conv_1 (Conv2D)                (None, 52, 44, 20)   980         ['input[0][0]']                  \n",
            "                                                                                                  \n",
            " pool_1 (MaxPooling2D)          (None, 26, 22, 20)   0           ['conv_1[1][0]']                 \n",
            "                                                                                                  \n",
            " conv_2 (Conv2D)                (None, 24, 20, 40)   7240        ['pool_1[1][0]']                 \n",
            "                                                                                                  \n",
            " pool_2 (MaxPooling2D)          (None, 12, 10, 40)   0           ['conv_2[1][0]']                 \n",
            "                                                                                                  \n",
            " prune_low_magnitude_conv_3 (Pr  (None, 10, 8, 60)   43262       ['pool_2[1][0]']                 \n",
            " uneLowMagnitude)                                                                                 \n",
            "                                                                                                  \n",
            " pool_3 (MaxPooling2D)          (None, 5, 4, 60)     0           ['prune_low_magnitude_conv_3[0][0\n",
            "                                                                 ]']                              \n",
            "                                                                                                  \n",
            " conv_4 (Conv2D)                (None, 4, 3, 80)     19280       ['pool_3[1][0]']                 \n",
            "                                                                                                  \n",
            " flatten_1 (Flatten)            (None, 1200)         0           ['pool_3[1][0]']                 \n",
            "                                                                                                  \n",
            " flatten_2 (Flatten)            (None, 960)          0           ['conv_4[1][0]']                 \n",
            "                                                                                                  \n",
            " fc_1 (Dense)                   (None, 160)          192160      ['flatten_1[1][0]']              \n",
            "                                                                                                  \n",
            " fc_2 (Dense)                   (None, 160)          153760      ['flatten_2[1][0]']              \n",
            "                                                                                                  \n",
            " add_1 (Add)                    (None, 160)          0           ['fc_1[1][0]',                   \n",
            "                                                                  'fc_2[1][0]']                   \n",
            "                                                                                                  \n",
            " activation_1 (Activation)      (None, 160)          0           ['add_1[1][0]']                  \n",
            "                                                                                                  \n",
            " output (Dense)                 (None, 1283)         206563      ['activation_1[1][0]']           \n",
            "                                                                                                  \n",
            "==================================================================================================\n",
            "Total params: 623,245\n",
            "Trainable params: 601,643\n",
            "Non-trainable params: 21,602\n",
            "__________________________________________________________________________________________________\n"
          ]
        },
        {
          "output_type": "stream",
          "name": "stderr",
          "text": [
            "/usr/local/lib/python3.7/dist-packages/tensorflow_model_optimization/python/core/sparsity/keras/pruning_wrapper.py:218: UserWarning: `layer.add_variable` is deprecated and will be removed in a future version. Please use `layer.add_weight` method instead.\n",
            "  aggregation=tf.VariableAggregation.MEAN)\n",
            "/usr/local/lib/python3.7/dist-packages/tensorflow_model_optimization/python/core/sparsity/keras/pruning_wrapper.py:225: UserWarning: `layer.add_variable` is deprecated and will be removed in a future version. Please use `layer.add_weight` method instead.\n",
            "  aggregation=tf.VariableAggregation.MEAN)\n",
            "/usr/local/lib/python3.7/dist-packages/tensorflow_model_optimization/python/core/sparsity/keras/pruning_wrapper.py:238: UserWarning: `layer.add_variable` is deprecated and will be removed in a future version. Please use `layer.add_weight` method instead.\n",
            "  trainable=False)\n"
          ]
        }
      ]
    },
    {
      "cell_type": "code",
      "source": [
        "#train and evaluate the model against baseline -- fine-tuning\n",
        "logdir = tempfile.mkdtemp()\n",
        "callbacks = [\n",
        "  tfmot.sparsity.keras.UpdatePruningStep(),\n",
        "  tfmot.sparsity.keras.PruningSummaries(log_dir=logdir),\n",
        "]\n",
        "\n",
        "clean_accuracy = np.zeros(epochs_test.shape[0])\n",
        "poison_accuracy = np.zeros(epochs_test.shape[0])\n",
        "for i, epochs in enumerate(epochs_test):\n",
        "  model_for_pruning.fit(tune_images, tune_labels,\n",
        "                    batch_size=batch_size, epochs=epochs, \n",
        "                    callbacks=callbacks, verbose=0)\n",
        "  #test clean data accuracy\n",
        "  test_images, test_labels = data_loader(test_data_filename)\n",
        "  test_images=data_preprocess(test_images)\n",
        "  _, model_for_pruning_accuracy = model_for_pruning.evaluate(\n",
        "    test_images, test_labels, verbose=0)\n",
        "  clean_accuracy[i] = model_for_pruning_accuracy\n",
        "  print('Epochs={0} (clean data) - pruned test accuracy: {1}'.format(epochs, model_for_pruning_accuracy))\n",
        "  #test poison data accuracy\n",
        "  test_images, test_labels = data_loader(multi_data_filename)\n",
        "  test_images=data_preprocess(test_images)\n",
        "  _, model_for_pruning_accuracy = model_for_pruning.evaluate(\n",
        "    test_images, test_labels, verbose=0)\n",
        "  poison_accuracy[i] = model_for_pruning_accuracy\n",
        "  print('Epochs={0} (poisoned data) - attack success rate: {1}'.format(epochs, model_for_pruning_accuracy))"
      ],
      "metadata": {
        "colab": {
          "base_uri": "https://localhost:8080/"
        },
        "id": "bGx8fKjQ-Z66",
        "outputId": "c5f27b07-f004-4cc9-ecd3-c3c339058360"
      },
      "execution_count": 32,
      "outputs": [
        {
          "output_type": "stream",
          "name": "stderr",
          "text": [
            "/usr/local/lib/python3.7/dist-packages/keras/engine/functional.py:1410: CustomMaskWarning: Custom mask layers require a config and must override get_config. When loading, the custom mask layer must be passed to the custom_objects argument.\n",
            "  layer_config = serialize_layer_fn(layer)\n",
            "/usr/local/lib/python3.7/dist-packages/tensorflow/python/util/dispatch.py:1096: UserWarning: \"`sparse_categorical_crossentropy` received `from_logits=True`, but the `output` argument was produced by a sigmoid or softmax activation and thus does not represent logits. Was this intended?\"\n",
            "  return dispatch_target(*args, **kwargs)\n"
          ]
        },
        {
          "output_type": "stream",
          "name": "stdout",
          "text": [
            "Epochs=2 (clean data) - pruned test accuracy: 0.9571317434310913\n",
            "Epochs=2 (poisoned data) - attack success rate: 0.8957521319389343\n",
            "Epochs=4 (clean data) - pruned test accuracy: 0.9667965769767761\n",
            "Epochs=4 (poisoned data) - attack success rate: 0.8844504952430725\n",
            "Epochs=6 (clean data) - pruned test accuracy: 0.9666407108306885\n",
            "Epochs=6 (poisoned data) - attack success rate: 0.8880553245544434\n",
            "Epochs=8 (clean data) - pruned test accuracy: 0.9316445589065552\n",
            "Epochs=8 (poisoned data) - attack success rate: 0.6421473026275635\n",
            "Epochs=10 (clean data) - pruned test accuracy: 0.9417771100997925\n",
            "Epochs=10 (poisoned data) - attack success rate: 0.6497467160224915\n"
          ]
        }
      ]
    },
    {
      "cell_type": "markdown",
      "source": [
        "#### Visualize the results"
      ],
      "metadata": {
        "id": "a2aZGqw5C5VN"
      }
    },
    {
      "cell_type": "code",
      "source": [
        "plt.figure(figsize=(15, 5))\n",
        "plt.subplot(1, 2, 1)\n",
        "plt.plot(epochs_test, clean_accuracy)\n",
        "plt.title('Clean validation data')\n",
        "plt.grid()\n",
        "plt.xlabel('epochs')\n",
        "plt.ylabel('validation accuracy')\n",
        "plt.subplot(1, 2, 2)\n",
        "plt.plot(epochs_test, poison_accuracy, label='Poison')\n",
        "plt.title('multi trigger & multi target poisoned data')\n",
        "plt.grid()\n",
        "plt.xlabel('epochs')\n",
        "plt.ylabel('attack success rate')"
      ],
      "metadata": {
        "colab": {
          "base_uri": "https://localhost:8080/",
          "height": 367
        },
        "id": "VgHxRt33B5hY",
        "outputId": "64f5b441-c459-450c-b512-23e61585b76a"
      },
      "execution_count": 33,
      "outputs": [
        {
          "output_type": "execute_result",
          "data": {
            "text/plain": [
              "Text(0, 0.5, 'attack success rate')"
            ]
          },
          "metadata": {},
          "execution_count": 33
        },
        {
          "output_type": "display_data",
          "data": {
            "image/png": "[encoded data removed]",
            "text/plain": [
              "<Figure size 1080x360 with 2 Axes>"
            ]
          },
          "metadata": {
            "needs_background": "light"
          }
        }
      ]
    },
    {
      "cell_type": "markdown",
      "source": [
        "####Save multi trigger & multi target poisoned_repaired model"
      ],
      "metadata": {
        "id": "R2uLz1PsDb__"
      }
    },
    {
      "cell_type": "code",
      "source": [
        "model_for_pruning.summary()"
      ],
      "metadata": {
        "colab": {
          "base_uri": "https://localhost:8080/"
        },
        "id": "wo-H7B7y7557",
        "outputId": "483c891b-4c8d-4736-c402-83810e7e6861"
      },
      "execution_count": 34,
      "outputs": [
        {
          "output_type": "stream",
          "name": "stdout",
          "text": [
            "Model: \"model_1\"\n",
            "__________________________________________________________________________________________________\n",
            " Layer (type)                   Output Shape         Param #     Connected to                     \n",
            "==================================================================================================\n",
            " input (InputLayer)             [(None, 55, 47, 3)]  0           []                               \n",
            "                                                                                                  \n",
            " conv_1 (Conv2D)                (None, 52, 44, 20)   980         ['input[0][0]']                  \n",
            "                                                                                                  \n",
            " pool_1 (MaxPooling2D)          (None, 26, 22, 20)   0           ['conv_1[1][0]']                 \n",
            "                                                                                                  \n",
            " conv_2 (Conv2D)                (None, 24, 20, 40)   7240        ['pool_1[1][0]']                 \n",
            "                                                                                                  \n",
            " pool_2 (MaxPooling2D)          (None, 12, 10, 40)   0           ['conv_2[1][0]']                 \n",
            "                                                                                                  \n",
            " prune_low_magnitude_conv_3 (Pr  (None, 10, 8, 60)   43262       ['pool_2[1][0]']                 \n",
            " uneLowMagnitude)                                                                                 \n",
            "                                                                                                  \n",
            " pool_3 (MaxPooling2D)          (None, 5, 4, 60)     0           ['prune_low_magnitude_conv_3[0][0\n",
            "                                                                 ]']                              \n",
            "                                                                                                  \n",
            " conv_4 (Conv2D)                (None, 4, 3, 80)     19280       ['pool_3[1][0]']                 \n",
            "                                                                                                  \n",
            " flatten_1 (Flatten)            (None, 1200)         0           ['pool_3[1][0]']                 \n",
            "                                                                                                  \n",
            " flatten_2 (Flatten)            (None, 960)          0           ['conv_4[1][0]']                 \n",
            "                                                                                                  \n",
            " fc_1 (Dense)                   (None, 160)          192160      ['flatten_1[1][0]']              \n",
            "                                                                                                  \n",
            " fc_2 (Dense)                   (None, 160)          153760      ['flatten_2[1][0]']              \n",
            "                                                                                                  \n",
            " add_1 (Add)                    (None, 160)          0           ['fc_1[1][0]',                   \n",
            "                                                                  'fc_2[1][0]']                   \n",
            "                                                                                                  \n",
            " activation_1 (Activation)      (None, 160)          0           ['add_1[1][0]']                  \n",
            "                                                                                                  \n",
            " output (Dense)                 (None, 1283)         206563      ['activation_1[1][0]']           \n",
            "                                                                                                  \n",
            "==================================================================================================\n",
            "Total params: 623,245\n",
            "Trainable params: 601,643\n",
            "Non-trainable params: 21,602\n",
            "__________________________________________________________________________________________________\n"
          ]
        }
      ]
    },
    {
      "cell_type": "code",
      "source": [
        "model_for_pruning.save('/content/gdrive/MyDrive/NYU/MLsecurity/CSAW-HackML-2020-BackdoorDetector/models_G/multi_trigger_multi_target_prune_net.h5')"
      ],
      "metadata": {
        "colab": {
          "base_uri": "https://localhost:8080/"
        },
        "id": "uNbNbiKEDG20",
        "outputId": "132642a2-2d2d-4967-fa7b-0cd09f029bf1"
      },
      "execution_count": 35,
      "outputs": [
        {
          "output_type": "stream",
          "name": "stderr",
          "text": [
            "/usr/local/lib/python3.7/dist-packages/keras/engine/functional.py:1410: CustomMaskWarning: Custom mask layers require a config and must override get_config. When loading, the custom mask layer must be passed to the custom_objects argument.\n",
            "  layer_config = serialize_layer_fn(layer)\n"
          ]
        }
      ]
    },
    {
      "cell_type": "code",
      "source": [
        ""
      ],
      "metadata": {
        "id": "lYPr3enOCrai"
      },
      "execution_count": 35,
      "outputs": []
    }
  ]
}